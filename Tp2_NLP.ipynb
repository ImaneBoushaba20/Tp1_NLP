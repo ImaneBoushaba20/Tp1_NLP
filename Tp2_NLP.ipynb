{
 "cells": [
  {
   "cell_type": "markdown",
   "id": "f1c31364",
   "metadata": {},
   "source": [
    "Etapes pour entrainer le modele word2vec sur le texte fourni:\n",
    "\n",
    "1/ Pretraitement du texte : Tokenisation et nettoyage du texte.\n",
    "\n",
    "2/ Entrainement du modele word2vec : utilisation de Gensim pour creer le modele.\n",
    "\n",
    "3/ Utilisation du modele entraine : Extraire la representation vectorielle d un mot, calculer la similarite entre 2 mots et extraire les mots contextuels pour un mot donne."
   ]
  },
  {
   "cell_type": "code",
   "execution_count": 1,
   "id": "7ecec9cb",
   "metadata": {},
   "outputs": [],
   "source": [
    "from gensim.models import Word2Vec\n",
    "from nltk.tokenize import word_tokenize\n",
    "import nltk"
   ]
  },
  {
   "cell_type": "code",
   "execution_count": 2,
   "id": "cc84d25e",
   "metadata": {},
   "outputs": [
    {
     "name": "stderr",
     "output_type": "stream",
     "text": [
      "[nltk_data] Downloading package punkt to\n",
      "[nltk_data]     C:\\Users\\imane\\AppData\\Roaming\\nltk_data...\n",
      "[nltk_data]   Unzipping tokenizers\\punkt.zip.\n"
     ]
    }
   ],
   "source": [
    "nltk.download('punkt')\n",
    "\n",
    "# Texte à utiliser pour l'entraînement du modèle\n",
    "text = \"\"\"Morocco and Marrakech: A Tapestry of Tradition and Modernity Morocco, located at the crossroads of Europe and Africa, is a country drenched in history, mystery, and cultural richness. A testament to the ancient civilizations that once flourished here, this North African kingdom boasts a unique blend of Arab, Berber, and European influences. At the heart of Morocco's rich tapestry lies Marrakech, one of its four imperial cities and a vibrant epicenter of tradition and modernity. Geographical Significance Morocco is bordered by the Atlantic Ocean to the west, the Mediterranean Sea to the north, Algeria to the east and southeast, and the vast Sahara desert to the south. Its strategic location has historically made it a sought-after territory and a melting pot of cultures, religions, and trade routes. Marrakech: The Red City Marrakech, often referred to as \"The Red City\" due to its distinctive red-hued buildings, stands against the backdrop of the snow-capped Atlas Mountains. Established in the 11th century, it has remained a crucial political, economic, and cultural center of Morocco. Journey through the Medina Marrakech's old town, the Medina, is a UNESCO World Heritage site and a labyrinthine maze of narrow alleys, bustling souks, and historical landmarks. The Djemaa el-Fna Square lies at the heart of the Medina and comes alive every evening with storytellers, musicians, snake charmers, and food stalls offering tantalizing Moroccan delicacies. Palaces and Gardens The city is also home to grand palaces like the Bahia Palace, showcasing intricate Islamic architecture, and the Saadian Tombs, remnants of the Saadian dynasty. The Majorelle Garden, restored by the fashion designer Yves Saint Laurent, is a tranquil oasis of cacti, palm trees, and cobalt blue accents. Modern Marrakech While tradition and history permeate Marrakech, the city is not averse to the modern world. Gueliz, the new town, is brimming with contemporary art galleries, stylish cafes, and chic boutiques, offering a stark contrast to the ancient Medina. Moroccan Cuisine No journey through Morocco and Marrakech would be complete without indulging in the local cuisine. Tagines, couscous, and pastilla are just a few of the many dishes that combine a plethora of flavors and spices like saffron, cumin, and mint. Paired with Moroccan mint tea, the culinary experience is truly unparalleled. In Conclusion Morocco, with Marrakech at its heart, offers travelers an unparalleled journey through time. The convergence of history, culture, architecture, and gastronomy makes it an enthralling destination for those seeking both adventure and reflection. As the Moroccan proverb goes, \"He who does not travel does not know the value of men.\" In the case of Morocco and Marrakech, it's not just the value of men, but also the value of time, tradition, and tales that have spanned centuries.\"\"\"\n"
   ]
  },
  {
   "cell_type": "code",
   "execution_count": 3,
   "id": "43eadd99",
   "metadata": {},
   "outputs": [],
   "source": [
    "# Tokenisation du texte\n",
    "tokens = word_tokenize(text.lower())"
   ]
  },
  {
   "cell_type": "code",
   "execution_count": 4,
   "id": "7f075eb1",
   "metadata": {},
   "outputs": [],
   "source": [
    "# Entraînement du modèle Word2Vec\n",
    "model = Word2Vec([tokens], vector_size=100, window=5, min_count=1, sg=1)"
   ]
  },
  {
   "cell_type": "code",
   "execution_count": 5,
   "id": "c4df0498",
   "metadata": {},
   "outputs": [],
   "source": [
    "# Fonction pour extraire la représentation vectorielle d'un mot\n",
    "def get_word_vector(word):\n",
    "    return model.wv[word]"
   ]
  },
  {
   "cell_type": "code",
   "execution_count": 6,
   "id": "71e9586a",
   "metadata": {},
   "outputs": [],
   "source": [
    "# Fonction pour calculer la similarité entre deux mots\n",
    "def calculate_similarity(word1, word2):\n",
    "    return model.wv.similarity(word1, word2)"
   ]
  },
  {
   "cell_type": "code",
   "execution_count": 7,
   "id": "32828780",
   "metadata": {},
   "outputs": [],
   "source": [
    "# Fonction pour extraire les mots contextuels pour un mot central donné\n",
    "def get_contextual_words(word, topn=5):\n",
    "    return model.wv.most_similar(word, topn=topn)"
   ]
  },
  {
   "cell_type": "code",
   "execution_count": 8,
   "id": "c52d23cd",
   "metadata": {},
   "outputs": [
    {
     "name": "stdout",
     "output_type": "stream",
     "text": [
      "Représentation vectorielle de 'morocco' :\n",
      "[-1.0787104e-02  1.1357489e-02  4.7213864e-03  1.0605202e-02\n",
      "  7.6770317e-03 -1.4883145e-03  1.3278982e-02  2.1486816e-03\n",
      " -1.1675926e-02  2.6663290e-03  3.6973555e-03 -8.6488556e-03\n",
      "  8.4184278e-03 -2.9588938e-03  9.7317575e-03 -2.2813133e-03\n",
      " -6.0239160e-03 -5.5977260e-03 -8.4881019e-03 -9.4352737e-03\n",
      "  1.3128738e-03  8.5188476e-03  1.2491137e-02 -9.0254219e-03\n",
      "  4.6671103e-03  1.8947250e-03 -3.5687841e-03 -1.0920721e-02\n",
      " -1.3277067e-03 -9.2583150e-03  9.1907745e-03 -4.9551674e-03\n",
      "  7.7742212e-03  9.6808234e-03 -1.3991615e-03  8.6256331e-03\n",
      " -5.6434353e-04  5.8940351e-03  2.5633541e-03 -1.3004911e-02\n",
      " -1.9822021e-03 -6.2569970e-04 -1.5414362e-03 -4.2665092e-04\n",
      "  1.1741413e-03 -1.4533347e-03  1.2447486e-03  1.9608380e-03\n",
      " -3.6037229e-03 -2.9710140e-03  2.1029406e-03 -2.4319175e-03\n",
      " -8.0459012e-04 -4.3499409e-03  1.8931287e-03 -1.9703254e-04\n",
      "  3.3160583e-03  3.7160804e-05  2.2861038e-03 -6.2813764e-03\n",
      " -5.8252569e-03 -5.4448931e-03  1.0642011e-02 -3.8409482e-03\n",
      " -1.3917761e-02  8.4327528e-04 -1.7924516e-03  1.0047374e-02\n",
      " -1.4164491e-02  5.7830960e-03 -1.1636801e-02  3.3027809e-03\n",
      "  9.5551703e-03  8.0454610e-03 -3.8706115e-03 -3.6645758e-03\n",
      " -6.8111480e-03 -7.2176475e-03 -1.2940368e-02  5.0616340e-04\n",
      " -2.2171973e-03 -6.3101975e-03  3.2559957e-03  4.2373235e-03\n",
      "  3.4680376e-03  8.0257771e-04  7.8019284e-04 -3.9959471e-03\n",
      "  5.9573445e-04  2.3679368e-03 -1.8910643e-03  4.5481077e-03\n",
      "  3.2044535e-03 -1.1173402e-03  1.6614342e-02  1.2543740e-02\n",
      "  4.7423323e-03  6.1314865e-03  6.2297327e-03 -7.2058970e-03]\n",
      "\n"
     ]
    }
   ],
   "source": [
    "# Exemples d'utilisation\n",
    "word = \"morocco\"\n",
    "print(\"Représentation vectorielle de '{}' :\".format(word))\n",
    "print(get_word_vector(word))\n",
    "print()"
   ]
  },
  {
   "cell_type": "code",
   "execution_count": 9,
   "id": "3603aa12",
   "metadata": {},
   "outputs": [
    {
     "name": "stdout",
     "output_type": "stream",
     "text": [
      "Similarité entre 'morocco' et 'marrakech' :\n",
      "0.322483\n",
      "\n"
     ]
    }
   ],
   "source": [
    "word1 = \"morocco\"\n",
    "word2 = \"marrakech\"\n",
    "print(\"Similarité entre '{}' et '{}' :\".format(word1, word2))\n",
    "print(calculate_similarity(word1, word2))\n",
    "print()"
   ]
  },
  {
   "cell_type": "code",
   "execution_count": 10,
   "id": "c2965adb",
   "metadata": {},
   "outputs": [
    {
     "name": "stdout",
     "output_type": "stream",
     "text": [
      "Mots contextuels pour 'city' :\n",
      "[('also', 0.35807088017463684), ('modern', 0.34658390283584595), ('goes', 0.295348584651947), ('of', 0.2804988622665405), (',', 0.2797464430332184)]\n"
     ]
    }
   ],
   "source": [
    "central_word = \"city\"\n",
    "print(\"Mots contextuels pour '{}' :\".format(central_word))\n",
    "print(get_contextual_words(central_word))"
   ]
  },
  {
   "cell_type": "code",
   "execution_count": null,
   "id": "f3513773",
   "metadata": {},
   "outputs": [],
   "source": []
  }
 ],
 "metadata": {
  "kernelspec": {
   "display_name": "Python 3 (ipykernel)",
   "language": "python",
   "name": "python3"
  },
  "language_info": {
   "codemirror_mode": {
    "name": "ipython",
    "version": 3
   },
   "file_extension": ".py",
   "mimetype": "text/x-python",
   "name": "python",
   "nbconvert_exporter": "python",
   "pygments_lexer": "ipython3",
   "version": "3.11.5"
  }
 },
 "nbformat": 4,
 "nbformat_minor": 5
}
