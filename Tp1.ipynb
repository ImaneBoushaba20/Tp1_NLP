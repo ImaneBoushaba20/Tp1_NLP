{
  "nbformat": 4,
  "nbformat_minor": 0,
  "metadata": {
    "colab": {
      "provenance": [],
      "authorship_tag": "ABX9TyMyOZO8bYXnp9zjbSCTBl81",
      "include_colab_link": true
    },
    "kernelspec": {
      "name": "python3",
      "display_name": "Python 3"
    },
    "language_info": {
      "name": "python"
    }
  },
  "cells": [
    {
      "cell_type": "markdown",
      "metadata": {
        "id": "view-in-github",
        "colab_type": "text"
      },
      "source": [
        "<a href=\"https://colab.research.google.com/github/ImaneBoushaba20/Tp1_NLP/blob/main/Tp1.ipynb\" target=\"_parent\"><img src=\"https://colab.research.google.com/assets/colab-badge.svg\" alt=\"Open In Colab\"/></a>"
      ]
    },
    {
      "cell_type": "code",
      "execution_count": null,
      "metadata": {
        "colab": {
          "base_uri": "https://localhost:8080/"
        },
        "id": "Wut_sWFIJGfg",
        "outputId": "6dc51b3b-d7ff-4b28-dd8b-9b0e03ba4637"
      },
      "outputs": [
        {
          "output_type": "stream",
          "name": "stdout",
          "text": [
            "Mounted at /content/drive\n"
          ]
        }
      ],
      "source": [
        "from google.colab import drive\n",
        "drive.mount('/content/drive')\n"
      ]
    },
    {
      "cell_type": "code",
      "source": [],
      "metadata": {
        "id": "nNHEqO_sMWw2"
      },
      "execution_count": null,
      "outputs": []
    },
    {
      "cell_type": "code",
      "source": [
        "csv_path = '/content/MonDrive/DataSet/sample.csv'\n"
      ],
      "metadata": {
        "id": "oyesyTuwKmVO"
      },
      "execution_count": null,
      "outputs": []
    },
    {
      "cell_type": "code",
      "source": [
        "\n",
        "import pandas as pd\n",
        "import numpy as np\n",
        "import matplotlib.pyplot as plt\n"
      ],
      "metadata": {
        "id": "DIGYfK9GMcrL"
      },
      "execution_count": null,
      "outputs": []
    },
    {
      "cell_type": "code",
      "source": [
        "import nltk\n",
        "import spacy"
      ],
      "metadata": {
        "id": "8zqtZbnRHzc7"
      },
      "execution_count": null,
      "outputs": []
    },
    {
      "cell_type": "code",
      "source": [
        "csv_path = '/content/drive/MyDrive/DataSet/sample (2).csv'"
      ],
      "metadata": {
        "id": "hAAZ221rIrwq"
      },
      "execution_count": null,
      "outputs": []
    },
    {
      "cell_type": "code",
      "source": [
        "df = pd.read_csv(csv_path)"
      ],
      "metadata": {
        "id": "-kUfRIdkTb4K"
      },
      "execution_count": null,
      "outputs": []
    },
    {
      "cell_type": "code",
      "source": [
        "print(df.head())"
      ],
      "metadata": {
        "colab": {
          "base_uri": "https://localhost:8080/"
        },
        "id": "mqSGt8fMT_nm",
        "outputId": "ff8eb8e9-2136-47e7-f3e5-f919e222286c"
      },
      "execution_count": null,
      "outputs": [
        {
          "output_type": "stream",
          "name": "stdout",
          "text": [
            "   tweet_id     author_id  inbound                      created_at  \\\n",
            "0    119237        105834     True  Wed Oct 11 06:55:44 +0000 2017   \n",
            "1    119238  ChaseSupport    False  Wed Oct 11 13:25:49 +0000 2017   \n",
            "2    119239        105835     True  Wed Oct 11 13:00:09 +0000 2017   \n",
            "3    119240  VirginTrains    False  Tue Oct 10 15:16:08 +0000 2017   \n",
            "4    119241        105836     True  Tue Oct 10 15:17:21 +0000 2017   \n",
            "\n",
            "                                                text response_tweet_id  \\\n",
            "0  @AppleSupport causing the reply to be disregar...            119236   \n",
            "1  @105835 Your business means a lot to us. Pleas...               NaN   \n",
            "2  @76328 I really hope you all change but I'm su...            119238   \n",
            "3  @105836 LiveChat is online at the moment - htt...            119241   \n",
            "4  @VirginTrains see attached error message. I've...            119243   \n",
            "\n",
            "   in_response_to_tweet_id  \n",
            "0                      NaN  \n",
            "1                 119239.0  \n",
            "2                      NaN  \n",
            "3                 119242.0  \n",
            "4                 119240.0  \n"
          ]
        }
      ]
    },
    {
      "cell_type": "code",
      "source": [
        "import pandas as pd\n",
        "import re\n",
        "import nltk\n",
        "from nltk.corpus import stopwords\n",
        "from nltk.tokenize import word_tokenize\n",
        "from nltk.stem import PorterStemmer, WordNetLemmatizer\n"
      ],
      "metadata": {
        "id": "lYDSJ0v9ZjUn"
      },
      "execution_count": null,
      "outputs": []
    },
    {
      "cell_type": "code",
      "source": [
        "nltk.download('punkt')\n",
        "nltk.download('stopwords')\n",
        "nltk.download('wordnet')"
      ],
      "metadata": {
        "colab": {
          "base_uri": "https://localhost:8080/"
        },
        "id": "xkTFy8ohbbUm",
        "outputId": "d989f06c-0e86-4bc7-b00c-0e6b99bed6d7"
      },
      "execution_count": null,
      "outputs": [
        {
          "output_type": "stream",
          "name": "stderr",
          "text": [
            "[nltk_data] Downloading package punkt to /root/nltk_data...\n",
            "[nltk_data]   Unzipping tokenizers/punkt.zip.\n",
            "[nltk_data] Downloading package stopwords to /root/nltk_data...\n",
            "[nltk_data]   Unzipping corpora/stopwords.zip.\n",
            "[nltk_data] Downloading package wordnet to /root/nltk_data...\n"
          ]
        },
        {
          "output_type": "execute_result",
          "data": {
            "text/plain": [
              "True"
            ]
          },
          "metadata": {},
          "execution_count": 50
        }
      ]
    },
    {
      "cell_type": "code",
      "source": [
        "def clean_text(text):\n",
        "    # Conversion en minuscules\n",
        "    text = text.lower()\n",
        "    # Suppression des ponctuations\n",
        "    text = re.sub(r'[^\\w\\s]', '', text)\n",
        "    # Suppression des mots vides\n",
        "    stop_words = set(stopwords.words('english'))\n",
        "    word_tokens = word_tokenize(text)\n",
        "    text = ' '.join([word for word in word_tokens if word not in stop_words])\n",
        "    # Stemming\n",
        "    stemmer = PorterStemmer()\n",
        "    text = ' '.join([stemmer.stem(word) for word in word_tokenize(text)])\n",
        "    # Lemmatization\n",
        "    lemmatizer = WordNetLemmatizer()\n",
        "    text = ' '.join([lemmatizer.lemmatize(word) for word in word_tokenize(text)])\n",
        "    # Suppression des émojis, émoticônes, URL et balises HTML (s'ils existent)\n",
        "    text = re.sub(r'<[^>]+>', '', text)\n",
        "    text = re.sub(r\"http\\S+|www\\S+|https\\S+\", '', text)\n",
        "    text = re.sub(\":[a-z]+:\", '', text)\n",
        "    text = re.sub(r'[^\\x00-\\x7F]+', '', text)\n",
        "    return text"
      ],
      "metadata": {
        "id": "v9Y3Rj92cRuL"
      },
      "execution_count": null,
      "outputs": []
    },
    {
      "cell_type": "code",
      "source": [
        "df['text_cleaned'] = df['text'].apply(clean_text)"
      ],
      "metadata": {
        "id": "srE30FJVcTub"
      },
      "execution_count": null,
      "outputs": []
    },
    {
      "cell_type": "code",
      "source": [
        "print(df[['tweet_id', 'text', 'text_cleaned']].head())"
      ],
      "metadata": {
        "colab": {
          "base_uri": "https://localhost:8080/"
        },
        "id": "Dx0RcKMycYXj",
        "outputId": "70440978-894e-49d5-d1f4-849b7bbcc2f7"
      },
      "execution_count": null,
      "outputs": [
        {
          "output_type": "stream",
          "name": "stdout",
          "text": [
            "   tweet_id                                               text  \\\n",
            "0    119237  @AppleSupport causing the reply to be disregar...   \n",
            "1    119238  @105835 Your business means a lot to us. Pleas...   \n",
            "2    119239  @76328 I really hope you all change but I'm su...   \n",
            "3    119240  @105836 LiveChat is online at the moment - htt...   \n",
            "4    119241  @VirginTrains see attached error message. I've...   \n",
            "\n",
            "                                        text_cleaned  \n",
            "0  applesupport caus repli disregard tap notif ke...  \n",
            "1  105835 busi mean lot u plea dm name zip code a...  \n",
            "2          76328 realli hope chang im sure wont dont  \n",
            "3  105836 livechat onlin moment  contact 03331 03...  \n",
            "4  virgintrain see attach error messag ive tri le...  \n"
          ]
        }
      ]
    }
  ]
}